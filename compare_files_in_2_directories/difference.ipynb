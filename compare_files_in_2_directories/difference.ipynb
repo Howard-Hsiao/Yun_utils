{
 "cells": [
  {
   "cell_type": "code",
   "execution_count": 32,
   "metadata": {},
   "outputs": [],
   "source": [
    "import json\n",
    "import os\n",
    "\n",
    "dirPath1 = \"./sample1.json\"\n",
    "dirPath2 = \"./sample2.json\"\n",
    "\n",
    "with open(dirPath1, 'r') as file:\n",
    "    data1 = json.load(file)\n",
    "    \n",
    "with open(dirPath2, 'r') as file:\n",
    "    data2 = json.load(file)"
   ]
  },
  {
   "cell_type": "code",
   "execution_count": 33,
   "metadata": {},
   "outputs": [],
   "source": [
    "data1.sort(key=lambda x:x[0])\n",
    "data2.sort(key=lambda x:x[0])\n",
    "\n",
    "file1_list = [i[0] for i in data1]\n",
    "file2_list = [i[0] for i in data2]"
   ]
  },
  {
   "cell_type": "code",
   "execution_count": null,
   "metadata": {},
   "outputs": [],
   "source": [
    "for file1, size1 in data1:\n",
    "    try:\n",
    "        index = file2_list.index(file1)\n",
    "        if data2[index][1] != size1:\n",
    "            print(f\"{file1}'s size is wrong! 1's side is {size1}, 2's side is {data2[index][1]}. \")\n",
    "    except: \n",
    "        print(f\"{file1} not found! \")"
   ]
  },
  {
   "cell_type": "code",
   "execution_count": 38,
   "metadata": {},
   "outputs": [],
   "source": [
    "ptr1 = 0\n",
    "ptr2 = 0\n",
    "\n",
    "diff1 = []\n",
    "diff2 = []\n",
    "\n",
    "while ptr1 < len(data1) and ptr2 < len(data2):\n",
    "    path1 = os.path.normpath(data1[ptr1][0])\n",
    "    path2 = os.path.normpath(data2[ptr2][0])\n",
    "\n",
    "    if path1 == path2:\n",
    "        if int(data1[ptr1][1]) != int(data2[ptr2][1]):\n",
    "            error_msg = f\"Size MisMatch, \" + \\\n",
    "                        f\"the size of the file {path1} in location 1 and 2 \" + \\\n",
    "                        f\"are [{data1[ptr1][1]}, {data2[ptr2][1]} respectively. ] \"\n",
    "            diff1.append({\n",
    "                \"msg\": error_msg, \n",
    "                \"fileName\": path1, \n",
    "                \"size of this file\": data1[ptr1][1], \n",
    "                \"size of other file\": data2[ptr2][1]\n",
    "            })\n",
    "\n",
    "            diff2.append({\n",
    "                \"msg\": \"Size MisMatch\", \n",
    "                \"fileName\": path1, \n",
    "                \"size of this file\": data2[ptr2][1], \n",
    "                \"size of other file\": data1[ptr1][1]\n",
    "            })\n",
    "\n",
    "        ptr1 += 1\n",
    "        ptr2 += 1\n",
    "    elif path1 < path2:\n",
    "        diff2.append({\n",
    "            \"msg\": \"Not found\", \n",
    "            \"fileName\": path1, \n",
    "            \"size\": data1[ptr1][1]\n",
    "        })\n",
    "        ptr1 += 1\n",
    "    elif path1 > path2:\n",
    "        diff1.append({\n",
    "            \"msg\": \"Not found\", \n",
    "            \"fileName\": path2, \n",
    "            \"size\": data2[ptr2][1]\n",
    "        })\n",
    "        ptr2 += 1\n",
    "\n",
    "\n",
    "while ptr1 < len(data1):\n",
    "    diff2.append({\n",
    "        \"msg\": \"Not found\", \n",
    "        \"fileName\": data1[ptr1][0], \n",
    "        \"size\": data1[ptr1][1]\n",
    "    })\n",
    "    ptr1 += 1;\n",
    "\n",
    "while ptr2 < len(data2):\n",
    "    diff1.append({\n",
    "        \"msg\": \"Not found\", \n",
    "        \"fileName\": data2[ptr2][0], \n",
    "        \"size\": data2[ptr2][1]\n",
    "    })\n",
    "    ptr2 += 1;"
   ]
  },
  {
   "cell_type": "code",
   "execution_count": null,
   "metadata": {},
   "outputs": [],
   "source": [
    "diff1"
   ]
  },
  {
   "cell_type": "code",
   "execution_count": null,
   "metadata": {},
   "outputs": [],
   "source": [
    "diff2"
   ]
  }
 ],
 "metadata": {
  "kernelspec": {
   "display_name": "Python 3.9.0 64-bit",
   "language": "python",
   "name": "python3"
  },
  "language_info": {
   "codemirror_mode": {
    "name": "ipython",
    "version": 3
   },
   "file_extension": ".py",
   "mimetype": "text/x-python",
   "name": "python",
   "nbconvert_exporter": "python",
   "pygments_lexer": "ipython3",
   "version": "3.9.0"
  },
  "vscode": {
   "interpreter": {
    "hash": "82ed002fa2d4956f5c6aec99bcefe0f73a9f79882f3c9e2319b14958a5896ac5"
   }
  }
 },
 "nbformat": 4,
 "nbformat_minor": 4
}
